{
 "cells": [
  {
   "cell_type": "code",
   "execution_count": 34,
   "metadata": {},
   "outputs": [],
   "source": [
    "#1 Short questions\n",
    "import time"
   ]
  },
  {
   "cell_type": "code",
   "execution_count": 36,
   "metadata": {},
   "outputs": [
    {
     "name": "stderr",
     "output_type": "stream",
     "text": [
      "/Users/bhavanirajan/anaconda3/lib/python3.7/site-packages/ipykernel_launcher.py:1: DeprecationWarning: time.clock has been deprecated in Python 3.3 and will be removed from Python 3.8: use time.perf_counter or time.process_time instead\n",
      "  \"\"\"Entry point for launching an IPython kernel.\n"
     ]
    },
    {
     "ename": "NameError",
     "evalue": "name 'main' is not defined",
     "output_type": "error",
     "traceback": [
      "\u001b[0;31m---------------------------------------------------------------------------\u001b[0m",
      "\u001b[0;31mNameError\u001b[0m                                 Traceback (most recent call last)",
      "\u001b[0;32m<ipython-input-36-479cfa40d174>\u001b[0m in \u001b[0;36m<module>\u001b[0;34m\u001b[0m\n\u001b[1;32m      1\u001b[0m \u001b[0mstart_time\u001b[0m \u001b[0;34m=\u001b[0m \u001b[0mtime\u001b[0m\u001b[0;34m.\u001b[0m\u001b[0mclock\u001b[0m\u001b[0;34m(\u001b[0m\u001b[0;34m)\u001b[0m\u001b[0;34m\u001b[0m\u001b[0;34m\u001b[0m\u001b[0m\n\u001b[0;32m----> 2\u001b[0;31m \u001b[0mmain\u001b[0m\u001b[0;34m(\u001b[0m\u001b[0;34m)\u001b[0m\u001b[0;34m\u001b[0m\u001b[0;34m\u001b[0m\u001b[0m\n\u001b[0m\u001b[1;32m      3\u001b[0m \u001b[0mprint\u001b[0m\u001b[0;34m(\u001b[0m\u001b[0mtime\u001b[0m\u001b[0;34m.\u001b[0m\u001b[0mclock\u001b[0m\u001b[0;34m(\u001b[0m\u001b[0;34m)\u001b[0m \u001b[0;34m-\u001b[0m \u001b[0mstart_time\u001b[0m\u001b[0;34m,\u001b[0m \u001b[0;34m\"seconds\"\u001b[0m\u001b[0;34m)\u001b[0m\u001b[0;34m\u001b[0m\u001b[0;34m\u001b[0m\u001b[0m\n",
      "\u001b[0;31mNameError\u001b[0m: name 'main' is not defined"
     ]
    }
   ],
   "source": []
  },
  {
   "cell_type": "code",
   "execution_count": 30,
   "metadata": {},
   "outputs": [
    {
     "data": {
      "text/plain": [
       "1584718812.344825"
      ]
     },
     "execution_count": 30,
     "metadata": {},
     "output_type": "execute_result"
    }
   ],
   "source": [
    "dt.today().timestamp()"
   ]
  },
  {
   "cell_type": "code",
   "execution_count": 31,
   "metadata": {},
   "outputs": [
    {
     "name": "stdout",
     "output_type": "stream",
     "text": [
      "Help on method_descriptor:\n",
      "\n",
      "timestamp(...)\n",
      "    Return POSIX timestamp as float.\n",
      "\n"
     ]
    }
   ],
   "source": [
    "import datetime\n",
    "help(datetime.datetime.timestamp)"
   ]
  },
  {
   "cell_type": "code",
   "execution_count": 53,
   "metadata": {},
   "outputs": [
    {
     "name": "stdout",
     "output_type": "stream",
     "text": [
      " -- n  0\n",
      " -- n  1\n",
      "---a 1\n",
      " -- n  2\n",
      "---a 4\n",
      "---a 8\n",
      " -- n  3\n",
      "---a 9\n",
      "---a 18\n",
      "---a 27\n",
      " -- n  4\n",
      "---a 16\n",
      "---a 32\n",
      "---a 48\n",
      "---a 64\n",
      " -- n  5\n",
      "---a 25\n",
      "---a 50\n",
      "---a 75\n",
      "---a 100\n",
      "---a 125\n",
      " -- n  6\n",
      "---a 36\n",
      "---a 72\n",
      "---a 108\n",
      "---a 144\n",
      "---a 180\n",
      "---a 216\n",
      " -- n  7\n",
      "---a 49\n",
      "---a 98\n",
      "---a 147\n",
      "---a 196\n",
      "---a 245\n",
      "---a 294\n",
      "---a 343\n",
      " -- n  8\n",
      "---a 64\n",
      "---a 128\n",
      "---a 192\n",
      "---a 256\n",
      "---a 320\n",
      "---a 384\n",
      "---a 448\n",
      "---a 512\n",
      " -- n  9\n",
      "---a 81\n",
      "---a 162\n",
      "---a 243\n",
      "---a 324\n",
      "---a 405\n",
      "---a 486\n",
      "---a 567\n",
      "---a 648\n",
      "---a 729\n"
     ]
    }
   ],
   "source": [
    "\n",
    "    for n in range(10):\n",
    "        print (\" -- n \",n)\n",
    "        a = 0\n",
    "        while (a < n * n * n):\n",
    "          a = a + n * n\n",
    "          print(\"---a\", a)\n",
    "        \n",
    "        #print(now)\n",
    "        #print(time.clock() - start_time, \"seconds\")"
   ]
  },
  {
   "cell_type": "code",
   "execution_count": 47,
   "metadata": {},
   "outputs": [
    {
     "name": "stdout",
     "output_type": "stream",
     "text": [
      "0.00028900000000020576 seconds\n"
     ]
    },
    {
     "name": "stderr",
     "output_type": "stream",
     "text": [
      "/Users/bhavanirajan/anaconda3/lib/python3.7/site-packages/ipykernel_launcher.py:1: DeprecationWarning: time.clock has been deprecated in Python 3.3 and will be removed from Python 3.8: use time.perf_counter or time.process_time instead\n",
      "  \"\"\"Entry point for launching an IPython kernel.\n",
      "/Users/bhavanirajan/anaconda3/lib/python3.7/site-packages/ipykernel_launcher.py:3: DeprecationWarning: time.clock has been deprecated in Python 3.3 and will be removed from Python 3.8: use time.perf_counter or time.process_time instead\n",
      "  This is separate from the ipykernel package so we can avoid doing imports until\n"
     ]
    }
   ],
   "source": [
    "start_time = time.clock()\n",
    "main()\n",
    "print(time.clock() - start_time, \"seconds\")"
   ]
  },
  {
   "cell_type": "code",
   "execution_count": 68,
   "metadata": {},
   "outputs": [
    {
     "name": "stdout",
     "output_type": "stream",
     "text": [
      " i -- 0\n"
     ]
    }
   ],
   "source": [
    "    sum = 0\n",
    "    n=1\n",
    "    for i in range(n):\n",
    "      j = 1\n",
    "      print( \" i --\", i)\n",
    "      while j < n:\n",
    "        print( \" j \", j)\n",
    "        j *= 2\n",
    "        sum += 1"
   ]
  },
  {
   "cell_type": "code",
   "execution_count": 75,
   "metadata": {},
   "outputs": [],
   "source": [
    "def bunnyEars(bunnies):\n",
    "      #print(\"----\",bunnies)\n",
    "      if bunnies == 0:\n",
    "        return 0\n",
    "\n",
    "      return 2 + bunnyEars(bunnies-1)"
   ]
  },
  {
   "cell_type": "code",
   "execution_count": 98,
   "metadata": {},
   "outputs": [
    {
     "ename": "RecursionError",
     "evalue": "maximum recursion depth exceeded in comparison",
     "output_type": "error",
     "traceback": [
      "\u001b[0;31m---------------------------------------------------------------------------\u001b[0m",
      "\u001b[0;31mRecursionError\u001b[0m                            Traceback (most recent call last)",
      "\u001b[0;32m<ipython-input-98-9917199ebc0e>\u001b[0m in \u001b[0;36m<module>\u001b[0;34m\u001b[0m\n\u001b[0;32m----> 1\u001b[0;31m \u001b[0mbunnyEars\u001b[0m\u001b[0;34m(\u001b[0m\u001b[0;36m2960\u001b[0m\u001b[0;34m)\u001b[0m\u001b[0;34m\u001b[0m\u001b[0;34m\u001b[0m\u001b[0m\n\u001b[0m",
      "\u001b[0;32m<ipython-input-75-62cef29b7b1b>\u001b[0m in \u001b[0;36mbunnyEars\u001b[0;34m(bunnies)\u001b[0m\n\u001b[1;32m      4\u001b[0m         \u001b[0;32mreturn\u001b[0m \u001b[0;36m0\u001b[0m\u001b[0;34m\u001b[0m\u001b[0;34m\u001b[0m\u001b[0m\n\u001b[1;32m      5\u001b[0m \u001b[0;34m\u001b[0m\u001b[0m\n\u001b[0;32m----> 6\u001b[0;31m       \u001b[0;32mreturn\u001b[0m \u001b[0;36m2\u001b[0m \u001b[0;34m+\u001b[0m \u001b[0mbunnyEars\u001b[0m\u001b[0;34m(\u001b[0m\u001b[0mbunnies\u001b[0m\u001b[0;34m-\u001b[0m\u001b[0;36m1\u001b[0m\u001b[0;34m)\u001b[0m\u001b[0;34m\u001b[0m\u001b[0;34m\u001b[0m\u001b[0m\n\u001b[0m",
      "... last 1 frames repeated, from the frame below ...\n",
      "\u001b[0;32m<ipython-input-75-62cef29b7b1b>\u001b[0m in \u001b[0;36mbunnyEars\u001b[0;34m(bunnies)\u001b[0m\n\u001b[1;32m      4\u001b[0m         \u001b[0;32mreturn\u001b[0m \u001b[0;36m0\u001b[0m\u001b[0;34m\u001b[0m\u001b[0;34m\u001b[0m\u001b[0m\n\u001b[1;32m      5\u001b[0m \u001b[0;34m\u001b[0m\u001b[0m\n\u001b[0;32m----> 6\u001b[0;31m       \u001b[0;32mreturn\u001b[0m \u001b[0;36m2\u001b[0m \u001b[0;34m+\u001b[0m \u001b[0mbunnyEars\u001b[0m\u001b[0;34m(\u001b[0m\u001b[0mbunnies\u001b[0m\u001b[0;34m-\u001b[0m\u001b[0;36m1\u001b[0m\u001b[0;34m)\u001b[0m\u001b[0;34m\u001b[0m\u001b[0;34m\u001b[0m\u001b[0m\n\u001b[0m",
      "\u001b[0;31mRecursionError\u001b[0m: maximum recursion depth exceeded in comparison"
     ]
    }
   ],
   "source": [
    "bunnyEars(2960)"
   ]
  },
  {
   "cell_type": "code",
   "execution_count": 74,
   "metadata": {},
   "outputs": [
    {
     "name": "stdout",
     "output_type": "stream",
     "text": [
      "---- 0\n",
      "i  0  -- 0\n",
      "---- 1\n",
      "---- 0\n",
      "i  1  -- 2\n",
      "---- 2\n",
      "---- 1\n",
      "---- 0\n",
      "i  2  -- 4\n",
      "---- 3\n",
      "---- 2\n",
      "---- 1\n",
      "---- 0\n",
      "i  3  -- 6\n",
      "---- 4\n",
      "---- 3\n",
      "---- 2\n",
      "---- 1\n",
      "---- 0\n",
      "i  4  -- 8\n",
      "---- 5\n",
      "---- 4\n",
      "---- 3\n",
      "---- 2\n",
      "---- 1\n",
      "---- 0\n",
      "i  5  -- 10\n",
      "---- 6\n",
      "---- 5\n",
      "---- 4\n",
      "---- 3\n",
      "---- 2\n",
      "---- 1\n",
      "---- 0\n",
      "i  6  -- 12\n",
      "---- 7\n",
      "---- 6\n",
      "---- 5\n",
      "---- 4\n",
      "---- 3\n",
      "---- 2\n",
      "---- 1\n",
      "---- 0\n",
      "i  7  -- 14\n",
      "---- 8\n",
      "---- 7\n",
      "---- 6\n",
      "---- 5\n",
      "---- 4\n",
      "---- 3\n",
      "---- 2\n",
      "---- 1\n",
      "---- 0\n",
      "i  8  -- 16\n",
      "---- 9\n",
      "---- 8\n",
      "---- 7\n",
      "---- 6\n",
      "---- 5\n",
      "---- 4\n",
      "---- 3\n",
      "---- 2\n",
      "---- 1\n",
      "---- 0\n",
      "i  9  -- 18\n"
     ]
    }
   ],
   "source": [
    "for i in range(10):\n",
    " print(\"i \" , i ,\" --\",bunnyEars(i))"
   ]
  },
  {
   "cell_type": "code",
   "execution_count": null,
   "metadata": {},
   "outputs": [],
   "source": [
    "'''\n",
    "Your function should take in a single parameter (a string `word`)\n",
    "\n",
    "Your function should return a count of how many occurences of ***\"th\"*** occur within `word`. \n",
    "Case matters.\n",
    "Your function must utilize recursion.\n",
    "It cannot contain any loops.\n",
    "'''\n",
    "\"\" 0\n",
    "\"abcthxyz\" 1"
   ]
  },
  {
   "cell_type": "code",
   "execution_count": 126,
   "metadata": {},
   "outputs": [],
   "source": [
    "cache={c:0}\n",
    "def count_th(word):\n",
    "    #print(word)\n",
    "    if (word ==''):\n",
    "     return 0\n",
    "    elif (word[-2:] == 'th'):\n",
    "        #print(\" found th\")\n",
    "        cache[c] += 1\n",
    "        count_th(word[:-1])\n",
    "    else: \n",
    "        #print(\"not found\")\n",
    "        count_th(word[:-1])\n",
    "    return cache[c]\n"
   ]
  },
  {
   "cell_type": "code",
   "execution_count": 148,
   "metadata": {},
   "outputs": [],
   "source": [
    "cache = {'c':0}\n",
    "\n",
    "def count_th(word):\n",
    "    #print(word)\n",
    "    if (word ==''):\n",
    "         return 0\n",
    "    elif (word[-2:] == 'th'):\n",
    "        #print(\" found th\")\n",
    "        cache['c'] += 1\n",
    "        count_th(word[:-1])\n",
    "    else: \n",
    "        #print(\"not found\")\n",
    "        count_th(word[:-1])\n",
    "    return cache['c']\n"
   ]
  },
  {
   "cell_type": "code",
   "execution_count": 152,
   "metadata": {},
   "outputs": [
    {
     "data": {
      "text/plain": [
       "1"
      ]
     },
     "execution_count": 152,
     "metadata": {},
     "output_type": "execute_result"
    }
   ],
   "source": [
    "cache = {'c':0}\n",
    "word=\"THtHThth\"\n",
    "count_th(word)"
   ]
  },
  {
   "cell_type": "code",
   "execution_count": null,
   "metadata": {},
   "outputs": [],
   "source": [
    "\n",
    "cache = {'c':0}\n",
    "word=\"abcthxyz\"\n",
    "count_th(word)"
   ]
  },
  {
   "cell_type": "code",
   "execution_count": null,
   "metadata": {},
   "outputs": [],
   "source": [
    "cache = {'c':0}\n",
    "word=\"abcthxyz\"\n",
    "count_th(word)"
   ]
  },
  {
   "cell_type": "code",
   "execution_count": 113,
   "metadata": {},
   "outputs": [
    {
     "data": {
      "text/plain": [
       "'ththththfldkgjfsdlkgjthkfgjsak'"
      ]
     },
     "execution_count": 113,
     "metadata": {},
     "output_type": "execute_result"
    }
   ],
   "source": [
    "word[:-1]"
   ]
  },
  {
   "cell_type": "code",
   "execution_count": null,
   "metadata": {},
   "outputs": [],
   "source": []
  }
 ],
 "metadata": {
  "kernelspec": {
   "display_name": "Python 3",
   "language": "python",
   "name": "python3"
  },
  "language_info": {
   "codemirror_mode": {
    "name": "ipython",
    "version": 3
   },
   "file_extension": ".py",
   "mimetype": "text/x-python",
   "name": "python",
   "nbconvert_exporter": "python",
   "pygments_lexer": "ipython3",
   "version": "3.7.4"
  }
 },
 "nbformat": 4,
 "nbformat_minor": 4
}
