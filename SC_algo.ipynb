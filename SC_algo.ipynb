{
 "cells": [
  {
   "cell_type": "code",
   "execution_count": 34,
   "metadata": {},
   "outputs": [],
   "source": [
    "#1 Short questions\n",
    "import time"
   ]
  },
  {
   "cell_type": "code",
   "execution_count": null,
   "metadata": {},
   "outputs": [],
   "source": []
  },
  {
   "cell_type": "code",
   "execution_count": 30,
   "metadata": {},
   "outputs": [
    {
     "data": {
      "text/plain": [
       "1584718812.344825"
      ]
     },
     "execution_count": 30,
     "metadata": {},
     "output_type": "execute_result"
    }
   ],
   "source": [
    "dt.today().timestamp()"
   ]
  },
  {
   "cell_type": "code",
   "execution_count": 31,
   "metadata": {},
   "outputs": [
    {
     "name": "stdout",
     "output_type": "stream",
     "text": [
      "Help on method_descriptor:\n",
      "\n",
      "timestamp(...)\n",
      "    Return POSIX timestamp as float.\n",
      "\n"
     ]
    }
   ],
   "source": [
    "import datetime\n",
    "help(datetime.datetime.timestamp)"
   ]
  },
  {
   "cell_type": "code",
   "execution_count": 1,
   "metadata": {},
   "outputs": [
    {
     "name": "stdout",
     "output_type": "stream",
     "text": [
      " -- n  0\n"
     ]
    }
   ],
   "source": [
    "\n",
    "    for n in range(1):\n",
    "        print (\" -- n \",n)\n",
    "        a = 0\n",
    "        while (a < n * n * n):\n",
    "          a = a + n * n\n",
    "          print(\"---a\", a)\n",
    "        \n",
    "        #print(now)\n",
    "        #print(time.clock() - start_time, \"seconds\")"
   ]
  },
  {
   "cell_type": "code",
   "execution_count": 47,
   "metadata": {},
   "outputs": [
    {
     "name": "stdout",
     "output_type": "stream",
     "text": [
      "0.00028900000000020576 seconds\n"
     ]
    },
    {
     "name": "stderr",
     "output_type": "stream",
     "text": [
      "/Users/bhavanirajan/anaconda3/lib/python3.7/site-packages/ipykernel_launcher.py:1: DeprecationWarning: time.clock has been deprecated in Python 3.3 and will be removed from Python 3.8: use time.perf_counter or time.process_time instead\n",
      "  \"\"\"Entry point for launching an IPython kernel.\n",
      "/Users/bhavanirajan/anaconda3/lib/python3.7/site-packages/ipykernel_launcher.py:3: DeprecationWarning: time.clock has been deprecated in Python 3.3 and will be removed from Python 3.8: use time.perf_counter or time.process_time instead\n",
      "  This is separate from the ipykernel package so we can avoid doing imports until\n"
     ]
    }
   ],
   "source": [
    "start_time = time.clock()\n",
    "main()\n",
    "print(time.clock() - start_time, \"seconds\")"
   ]
  },
  {
   "cell_type": "code",
   "execution_count": 68,
   "metadata": {},
   "outputs": [
    {
     "name": "stdout",
     "output_type": "stream",
     "text": [
      " i -- 0\n"
     ]
    }
   ],
   "source": [
    "    sum = 0\n",
    "    n=1\n",
    "    for i in range(n):\n",
    "      j = 1\n",
    "      print( \" i --\", i)\n",
    "      while j < n:\n",
    "        print( \" j \", j)\n",
    "        j *= 2\n",
    "        sum += 1"
   ]
  },
  {
   "cell_type": "code",
   "execution_count": 3,
   "metadata": {},
   "outputs": [],
   "source": [
    "def bunnyEars(bunnies):\n",
    "      #print(\"----\",bunnies)\n",
    "      if bunnies == 0:\n",
    "        return 0\n",
    "\n",
    "      return 2 + bunnyEars(bunnies-1)"
   ]
  },
  {
   "cell_type": "code",
   "execution_count": 4,
   "metadata": {},
   "outputs": [
    {
     "data": {
      "text/plain": [
       "5918"
      ]
     },
     "execution_count": 4,
     "metadata": {},
     "output_type": "execute_result"
    }
   ],
   "source": [
    "bunnyEars(2959)"
   ]
  },
  {
   "cell_type": "code",
   "execution_count": 5,
   "metadata": {},
   "outputs": [
    {
     "name": "stdout",
     "output_type": "stream",
     "text": [
      "i  0  -- 0\n"
     ]
    }
   ],
   "source": [
    "for i in range(1):\n",
    " print(\"i \" , i ,\" --\",bunnyEars(i))"
   ]
  },
  {
   "cell_type": "code",
   "execution_count": null,
   "metadata": {},
   "outputs": [],
   "source": [
    "'''\n",
    "Your function should take in a single parameter (a string `word`)\n",
    "\n",
    "Your function should return a count of how many occurences of ***\"th\"*** occur within `word`. \n",
    "Case matters.\n",
    "Your function must utilize recursion.\n",
    "It cannot contain any loops.\n",
    "'''\n",
    "\"\" 0\n",
    "\"abcthxyz\" 1"
   ]
  },
  {
   "cell_type": "code",
   "execution_count": null,
   "metadata": {},
   "outputs": [],
   "source": [
    "## using helper fn"
   ]
  },
  {
   "cell_type": "code",
   "execution_count": 33,
   "metadata": {},
   "outputs": [],
   "source": [
    "def count_th(word):\n",
    "    count = {'c':0}\n",
    "    return helper(word,count)\n",
    "\n",
    "def helper(word,count):\n",
    "    if (word == \"\"):\n",
    "         return 0\n",
    "    elif (word[-2:] == \"th\"):\n",
    "        count['c'] += 1\n",
    "        helper(word[:-1],count)\n",
    "    else: \n",
    "        helper(word[:-1],count)\n",
    "    return count['c']"
   ]
  },
  {
   "cell_type": "code",
   "execution_count": 53,
   "metadata": {},
   "outputs": [],
   "source": [
    "# plain recursion\n",
    "def count_th(word):\n",
    "    if(word == \"\"):\n",
    "        return 0\n",
    "    elif(word[:2] == \"th\"):\n",
    "        return 1 + count_th(word[2:])\n",
    "    else: \n",
    "        return count_th(word[1:])\n",
    "   \n"
   ]
  },
  {
   "cell_type": "code",
   "execution_count": 54,
   "metadata": {},
   "outputs": [],
   "source": [
    "#cache = {'c':0}\n",
    "word1=\"\"\n",
    "word2=\"abcthxyz\"\n",
    "word3=\"abcthefthghith\"\n",
    "word4=\"thhtthht\"\n",
    "word5=\"THtHThth\"\n"
   ]
  },
  {
   "cell_type": "code",
   "execution_count": 55,
   "metadata": {},
   "outputs": [
    {
     "data": {
      "text/plain": [
       "0"
      ]
     },
     "execution_count": 55,
     "metadata": {},
     "output_type": "execute_result"
    }
   ],
   "source": [
    "count_th(word1)"
   ]
  },
  {
   "cell_type": "code",
   "execution_count": 56,
   "metadata": {},
   "outputs": [
    {
     "data": {
      "text/plain": [
       "1"
      ]
     },
     "execution_count": 56,
     "metadata": {},
     "output_type": "execute_result"
    }
   ],
   "source": [
    "count_th(word2)"
   ]
  },
  {
   "cell_type": "code",
   "execution_count": 57,
   "metadata": {},
   "outputs": [
    {
     "data": {
      "text/plain": [
       "3"
      ]
     },
     "execution_count": 57,
     "metadata": {},
     "output_type": "execute_result"
    }
   ],
   "source": [
    "\n",
    "count_th(word3)"
   ]
  },
  {
   "cell_type": "code",
   "execution_count": 58,
   "metadata": {},
   "outputs": [
    {
     "data": {
      "text/plain": [
       "2"
      ]
     },
     "execution_count": 58,
     "metadata": {},
     "output_type": "execute_result"
    }
   ],
   "source": [
    "\n",
    "count_th(word4)"
   ]
  },
  {
   "cell_type": "code",
   "execution_count": 59,
   "metadata": {},
   "outputs": [
    {
     "data": {
      "text/plain": [
       "1"
      ]
     },
     "execution_count": 59,
     "metadata": {},
     "output_type": "execute_result"
    }
   ],
   "source": [
    "\n",
    "count_th(word5)"
   ]
  },
  {
   "cell_type": "code",
   "execution_count": null,
   "metadata": {},
   "outputs": [],
   "source": []
  },
  {
   "cell_type": "code",
   "execution_count": null,
   "metadata": {},
   "outputs": [],
   "source": []
  },
  {
   "cell_type": "code",
   "execution_count": null,
   "metadata": {},
   "outputs": [],
   "source": []
  },
  {
   "cell_type": "code",
   "execution_count": 10,
   "metadata": {},
   "outputs": [],
   "source": [
    "class SortingRobot:\n",
    "    def __init__(self, l):\n",
    "        \"\"\"\n",
    "        SortingRobot takes a list and sorts it.\n",
    "        \"\"\"\n",
    "        self._list = l          # The list the robot is tasked with sorting\n",
    "        self._item = None       # The item the robot is holding\n",
    "        self._position = 0      # The list position the robot is at\n",
    "        self._light = \"OFF\"     # The state of the robot's light\n",
    "        self._time = 0          # A time counter (stretch)\n",
    "\n",
    "    def can_move_right(self):\n",
    "        \"\"\"\n",
    "        Returns True if the robot can move right or False if it's\n",
    "        at the end of the list.\n",
    "        \"\"\"\n",
    "        return self._position < len(self._list) - 1\n",
    "\n",
    "    def can_move_left(self):\n",
    "        \"\"\"\n",
    "        Returns True if the robot can move left or False if it's\n",
    "        at the start of the list.\n",
    "        \"\"\"\n",
    "        return self._position > 0\n",
    "\n",
    "    def move_right(self):\n",
    "        \"\"\"\n",
    "        If the robot can move to the right, it moves to the right and\n",
    "        returns True. Otherwise, it stays in place and returns False.\n",
    "        This will increment the time counter by 1.\n",
    "        \"\"\"\n",
    "        self._time += 1\n",
    "        if self._position < len(self._list) - 1:\n",
    "            self._position += 1\n",
    "            return True\n",
    "        else:\n",
    "            return False\n",
    "\n",
    "    def move_left(self):\n",
    "        \"\"\"\n",
    "        If the robot can move to the left, it moves to the left and\n",
    "        returns True. Otherwise, it stays in place and returns False.\n",
    "        This will increment the time counter by 1.\n",
    "        \"\"\"\n",
    "        self._time += 1\n",
    "        if self._position > 0:\n",
    "            self._position -= 1\n",
    "            return True\n",
    "        else:\n",
    "            return False\n",
    "\n",
    "    def swap_item(self):\n",
    "        \"\"\"\n",
    "        The robot swaps its currently held item with the list item in front\n",
    "        of it.\n",
    "        This will increment the time counter by 1.\n",
    "        \"\"\"\n",
    "        self._time += 1\n",
    "        # Swap the held item with the list item at the robot's position\n",
    "        self._item, self._list[self._position] = self._list[self._position], self._item\n",
    "\n",
    "    def compare_item(self):\n",
    "        \"\"\"\n",
    "        Compare the held item with the item in front of the robot:\n",
    "        If the held item's value is greater, return 1.\n",
    "        If the held item's value is less, return -1.\n",
    "        If the held item's value is equal, return 0.\n",
    "        If either item is None, return None.\n",
    "        \"\"\"\n",
    "        if self._item is None or self._list[self._position] is None:\n",
    "            return None\n",
    "        elif self._item > self._list[self._position]:\n",
    "            return 1\n",
    "        elif self._item < self._list[self._position]:\n",
    "            return -1\n",
    "        else:\n",
    "            return 0\n",
    "\n",
    "    def set_light_on(self):\n",
    "        \"\"\"\n",
    "        Turn on the robot's light\n",
    "        \"\"\"\n",
    "        self._light = \"ON\"\n",
    "        \n",
    "    def set_light_off(self):\n",
    "        \"\"\"\n",
    "        Turn off the robot's light\n",
    "        \"\"\"\n",
    "        self._light = \"OFF\"\n",
    "        \n",
    "    def light_is_on(self):\n",
    "        \"\"\"\n",
    "        Returns True if the robot's light is on and False otherwise.\n",
    "        \"\"\"\n",
    "        return self._light == \"ON\"\n",
    "    \n",
    "#     def pick_item(self):\n",
    "#         \"\"\"\n",
    "#         Picks an item from the list\n",
    "#         \"\"\"\n",
    "#         self._item = self._list[self._position]\n",
    "\n",
    "    def sort(self):\n",
    "        \"\"\"\n",
    "        Sort the robot's list.\n",
    "        \n",
    "        \"\"\"\n",
    "        # bubble sort\n",
    "        # pick the first item in the list\n",
    "        # switch the head light on\n",
    "        # walk right compare the next item in the list\n",
    "        # if its < the item its holding swap\n",
    "        # keep the head light on.\n",
    "        # compare the next two items until the end of list.\n",
    "        # swaping the items thats less to the left.\n",
    "        # when it reaches the end of right, walk left comparing next two items now check it the item is greater.\n",
    "        # do this until it reach the left end\n",
    "        # when no swaping happens, switch off the head light \n",
    "        # and the list is sorted\n",
    "        \n",
    "        # Fill this out\n",
    "\n",
    "        # This is for one bubble\n",
    "#         print(self._list) \n",
    "        # Keeping this on when swap occurs\n",
    "        self.set_light_on()\n",
    "        \n",
    "        while(self.light_is_on()):\n",
    "            #Set the light off\n",
    "            self.set_light_off()\n",
    "            while(self.can_move_right()):\n",
    "                self.helper_move_right_n_swap()\n",
    "            while(self.can_move_left()):\n",
    "                self.helper_move_left_n_swap()\n",
    "         \n",
    "            \n",
    "            \n",
    "    def helper_move_right_n_swap(self) :   \n",
    "        self.swap_item()\n",
    "        self.move_right()\n",
    "        if(self.compare_item() == 1):\n",
    "            # Keeping this on when swap occurs\n",
    "            self.set_light_on()\n",
    "            self.swap_item()\n",
    "        self.move_left()\n",
    "        self.swap_item()    \n",
    "        self.move_right()\n",
    "        \n",
    "    def helper_move_left_n_swap(self) :   \n",
    "        self.swap_item()\n",
    "        self.move_left()\n",
    "        if(self.compare_item() == -1):\n",
    "            # Keeping this on when swap occurs\n",
    "            self.set_light_on()\n",
    "            self.swap_item()\n",
    "        self.move_right()\n",
    "        self.swap_item()          \n",
    "        self.move_left()    \n",
    "     \n",
    "        \n",
    "    \n"
   ]
  },
  {
   "cell_type": "code",
   "execution_count": 6,
   "metadata": {},
   "outputs": [],
   "source": [
    "def bubble_sort( arr ):\n",
    "    print(arr)\n",
    "    swap_occured=True\n",
    "    while(swap_occured):\n",
    "        swap_occured=False\n",
    "        for index in range(len(arr) - 1):\n",
    "            if(arr[index] > arr[index+1]):\n",
    "                arr[index] , arr[index+1] = arr[index+1], arr[index]\n",
    "                swap_occured=True\n",
    "                print(arr)\n",
    "        \n",
    "        #print(\"---\",arr)\n",
    "    return arr\n"
   ]
  },
  {
   "cell_type": "code",
   "execution_count": 11,
   "metadata": {},
   "outputs": [
    {
     "name": "stdout",
     "output_type": "stream",
     "text": [
      "[0, 1, 2, 3, 4, 5, 6, 7, 8, 9, 10, 11, 12, 13, 14, 15, 16, 17, 18, 19, 20, 21, 22, 23, 24, 25, 26, 27, 28, 29, 30, 31, 32, 33, 34, 35, 36, 37, 38, 39, 40, 41, 42, 43, 44, 45, 46, 47, 48, 49, 50, 51, 52, 53, 54, 55, 56, 57, 58, 59, 60, 61, 62, 63, 64, 65, 66, 67, 68, 69, 70, 71, 72, 73, 74, 75, 76, 77, 78, 79, 80, 81, 82, 83, 84, 85, 86, 87, 88, 89, 90, 91, 92, 93, 94, 95, 96, 97, 98, 99]\n"
     ]
    }
   ],
   "source": [
    "l = [15, 41, 58, 49, 26, 4, 28, 8, 61, 60, 65, 21, 78, 14, 35, 90, 54, 5, 0, 87, 82, 96, 43, 92, 62, 97, 69, 94, 99, 93, 76, 47, 2, 88, 51, 40, 95, 6, 23, 81, 30, 19, 25, 91, 18, 68, 71, 9, 66, 1, 45, 33, 3, 72, 16, 85, 27, 59, 64, 39, 32, 24, 38, 84, 44, 80, 11, 73, 42, 20, 10, 29, 22, 98, 17, 48, 52, 67, 53, 74, 77, 37, 63, 31, 7, 75, 36, 89, 70, 34, 79, 83, 13, 57, 86, 12, 56, 50, 55, 46]\n",
    "#l= [6,1,4,2,5]\n",
    "robot = SortingRobot(l)\n",
    "\n",
    "robot.sort()\n",
    "print(robot._list)"
   ]
  },
  {
   "cell_type": "code",
   "execution_count": 7,
   "metadata": {},
   "outputs": [
    {
     "name": "stdout",
     "output_type": "stream",
     "text": [
      "[0, 1, 2, 3, 4, 5, 6, 7, 8, 9, 10, 11, 12, 13, 14, 15, 16, 17, 18, 19, 20, 21, 22, 23, 24, 25, 26, 27, 28, 29, 30, 31, 32, 33, 34, 35, 36, 37, 38, 39, 40, 41, 42, 43, 44, 45, 46, 47, 48, 49, 50, 51, 52, 53, 54, 55, 56, 57, 58, 59, 60, 61, 62, 63, 64, 65, 66, 67, 68, 69, 70, 71, 72, 73, 74, 75, 76, 77, 78, 79, 80, 81, 82, 83, 84, 85, 86, 87, 88, 89, 90, 91, 92, 93, 94, 95, 96, 97, 98, 99]\n"
     ]
    },
    {
     "data": {
      "text/plain": [
       "[0,\n",
       " 1,\n",
       " 2,\n",
       " 3,\n",
       " 4,\n",
       " 5,\n",
       " 6,\n",
       " 7,\n",
       " 8,\n",
       " 9,\n",
       " 10,\n",
       " 11,\n",
       " 12,\n",
       " 13,\n",
       " 14,\n",
       " 15,\n",
       " 16,\n",
       " 17,\n",
       " 18,\n",
       " 19,\n",
       " 20,\n",
       " 21,\n",
       " 22,\n",
       " 23,\n",
       " 24,\n",
       " 25,\n",
       " 26,\n",
       " 27,\n",
       " 28,\n",
       " 29,\n",
       " 30,\n",
       " 31,\n",
       " 32,\n",
       " 33,\n",
       " 34,\n",
       " 35,\n",
       " 36,\n",
       " 37,\n",
       " 38,\n",
       " 39,\n",
       " 40,\n",
       " 41,\n",
       " 42,\n",
       " 43,\n",
       " 44,\n",
       " 45,\n",
       " 46,\n",
       " 47,\n",
       " 48,\n",
       " 49,\n",
       " 50,\n",
       " 51,\n",
       " 52,\n",
       " 53,\n",
       " 54,\n",
       " 55,\n",
       " 56,\n",
       " 57,\n",
       " 58,\n",
       " 59,\n",
       " 60,\n",
       " 61,\n",
       " 62,\n",
       " 63,\n",
       " 64,\n",
       " 65,\n",
       " 66,\n",
       " 67,\n",
       " 68,\n",
       " 69,\n",
       " 70,\n",
       " 71,\n",
       " 72,\n",
       " 73,\n",
       " 74,\n",
       " 75,\n",
       " 76,\n",
       " 77,\n",
       " 78,\n",
       " 79,\n",
       " 80,\n",
       " 81,\n",
       " 82,\n",
       " 83,\n",
       " 84,\n",
       " 85,\n",
       " 86,\n",
       " 87,\n",
       " 88,\n",
       " 89,\n",
       " 90,\n",
       " 91,\n",
       " 92,\n",
       " 93,\n",
       " 94,\n",
       " 95,\n",
       " 96,\n",
       " 97,\n",
       " 98,\n",
       " 99]"
      ]
     },
     "execution_count": 7,
     "metadata": {},
     "output_type": "execute_result"
    }
   ],
   "source": [
    "bubble_sort(l)"
   ]
  },
  {
   "cell_type": "code",
   "execution_count": null,
   "metadata": {},
   "outputs": [],
   "source": []
  }
 ],
 "metadata": {
  "kernelspec": {
   "display_name": "Python 3",
   "language": "python",
   "name": "python3"
  },
  "language_info": {
   "codemirror_mode": {
    "name": "ipython",
    "version": 3
   },
   "file_extension": ".py",
   "mimetype": "text/x-python",
   "name": "python",
   "nbconvert_exporter": "python",
   "pygments_lexer": "ipython3",
   "version": "3.7.4"
  }
 },
 "nbformat": 4,
 "nbformat_minor": 4
}
