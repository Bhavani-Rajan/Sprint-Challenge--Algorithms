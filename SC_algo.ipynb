{
 "cells": [
  {
   "cell_type": "code",
   "execution_count": 34,
   "metadata": {},
   "outputs": [],
   "source": [
    "#1 Short questions\n",
    "import time"
   ]
  },
  {
   "cell_type": "code",
   "execution_count": 36,
   "metadata": {},
   "outputs": [
    {
     "name": "stderr",
     "output_type": "stream",
     "text": [
      "/Users/bhavanirajan/anaconda3/lib/python3.7/site-packages/ipykernel_launcher.py:1: DeprecationWarning: time.clock has been deprecated in Python 3.3 and will be removed from Python 3.8: use time.perf_counter or time.process_time instead\n",
      "  \"\"\"Entry point for launching an IPython kernel.\n"
     ]
    },
    {
     "ename": "NameError",
     "evalue": "name 'main' is not defined",
     "output_type": "error",
     "traceback": [
      "\u001b[0;31m---------------------------------------------------------------------------\u001b[0m",
      "\u001b[0;31mNameError\u001b[0m                                 Traceback (most recent call last)",
      "\u001b[0;32m<ipython-input-36-479cfa40d174>\u001b[0m in \u001b[0;36m<module>\u001b[0;34m\u001b[0m\n\u001b[1;32m      1\u001b[0m \u001b[0mstart_time\u001b[0m \u001b[0;34m=\u001b[0m \u001b[0mtime\u001b[0m\u001b[0;34m.\u001b[0m\u001b[0mclock\u001b[0m\u001b[0;34m(\u001b[0m\u001b[0;34m)\u001b[0m\u001b[0;34m\u001b[0m\u001b[0;34m\u001b[0m\u001b[0m\n\u001b[0;32m----> 2\u001b[0;31m \u001b[0mmain\u001b[0m\u001b[0;34m(\u001b[0m\u001b[0;34m)\u001b[0m\u001b[0;34m\u001b[0m\u001b[0;34m\u001b[0m\u001b[0m\n\u001b[0m\u001b[1;32m      3\u001b[0m \u001b[0mprint\u001b[0m\u001b[0;34m(\u001b[0m\u001b[0mtime\u001b[0m\u001b[0;34m.\u001b[0m\u001b[0mclock\u001b[0m\u001b[0;34m(\u001b[0m\u001b[0;34m)\u001b[0m \u001b[0;34m-\u001b[0m \u001b[0mstart_time\u001b[0m\u001b[0;34m,\u001b[0m \u001b[0;34m\"seconds\"\u001b[0m\u001b[0;34m)\u001b[0m\u001b[0;34m\u001b[0m\u001b[0;34m\u001b[0m\u001b[0m\n",
      "\u001b[0;31mNameError\u001b[0m: name 'main' is not defined"
     ]
    }
   ],
   "source": []
  },
  {
   "cell_type": "code",
   "execution_count": 30,
   "metadata": {},
   "outputs": [
    {
     "data": {
      "text/plain": [
       "1584718812.344825"
      ]
     },
     "execution_count": 30,
     "metadata": {},
     "output_type": "execute_result"
    }
   ],
   "source": [
    "dt.today().timestamp()"
   ]
  },
  {
   "cell_type": "code",
   "execution_count": 31,
   "metadata": {},
   "outputs": [
    {
     "name": "stdout",
     "output_type": "stream",
     "text": [
      "Help on method_descriptor:\n",
      "\n",
      "timestamp(...)\n",
      "    Return POSIX timestamp as float.\n",
      "\n"
     ]
    }
   ],
   "source": [
    "import datetime\n",
    "help(datetime.datetime.timestamp)"
   ]
  },
  {
   "cell_type": "code",
   "execution_count": 53,
   "metadata": {},
   "outputs": [
    {
     "name": "stdout",
     "output_type": "stream",
     "text": [
      " -- n  0\n",
      " -- n  1\n",
      "---a 1\n",
      " -- n  2\n",
      "---a 4\n",
      "---a 8\n",
      " -- n  3\n",
      "---a 9\n",
      "---a 18\n",
      "---a 27\n",
      " -- n  4\n",
      "---a 16\n",
      "---a 32\n",
      "---a 48\n",
      "---a 64\n",
      " -- n  5\n",
      "---a 25\n",
      "---a 50\n",
      "---a 75\n",
      "---a 100\n",
      "---a 125\n",
      " -- n  6\n",
      "---a 36\n",
      "---a 72\n",
      "---a 108\n",
      "---a 144\n",
      "---a 180\n",
      "---a 216\n",
      " -- n  7\n",
      "---a 49\n",
      "---a 98\n",
      "---a 147\n",
      "---a 196\n",
      "---a 245\n",
      "---a 294\n",
      "---a 343\n",
      " -- n  8\n",
      "---a 64\n",
      "---a 128\n",
      "---a 192\n",
      "---a 256\n",
      "---a 320\n",
      "---a 384\n",
      "---a 448\n",
      "---a 512\n",
      " -- n  9\n",
      "---a 81\n",
      "---a 162\n",
      "---a 243\n",
      "---a 324\n",
      "---a 405\n",
      "---a 486\n",
      "---a 567\n",
      "---a 648\n",
      "---a 729\n"
     ]
    }
   ],
   "source": [
    "\n",
    "    for n in range(10):\n",
    "        print (\" -- n \",n)\n",
    "        a = 0\n",
    "        while (a < n * n * n):\n",
    "          a = a + n * n\n",
    "          print(\"---a\", a)\n",
    "        \n",
    "        #print(now)\n",
    "        #print(time.clock() - start_time, \"seconds\")"
   ]
  },
  {
   "cell_type": "code",
   "execution_count": 47,
   "metadata": {},
   "outputs": [
    {
     "name": "stdout",
     "output_type": "stream",
     "text": [
      "0.00028900000000020576 seconds\n"
     ]
    },
    {
     "name": "stderr",
     "output_type": "stream",
     "text": [
      "/Users/bhavanirajan/anaconda3/lib/python3.7/site-packages/ipykernel_launcher.py:1: DeprecationWarning: time.clock has been deprecated in Python 3.3 and will be removed from Python 3.8: use time.perf_counter or time.process_time instead\n",
      "  \"\"\"Entry point for launching an IPython kernel.\n",
      "/Users/bhavanirajan/anaconda3/lib/python3.7/site-packages/ipykernel_launcher.py:3: DeprecationWarning: time.clock has been deprecated in Python 3.3 and will be removed from Python 3.8: use time.perf_counter or time.process_time instead\n",
      "  This is separate from the ipykernel package so we can avoid doing imports until\n"
     ]
    }
   ],
   "source": [
    "start_time = time.clock()\n",
    "main()\n",
    "print(time.clock() - start_time, \"seconds\")"
   ]
  },
  {
   "cell_type": "code",
   "execution_count": 68,
   "metadata": {},
   "outputs": [
    {
     "name": "stdout",
     "output_type": "stream",
     "text": [
      " i -- 0\n"
     ]
    }
   ],
   "source": [
    "    sum = 0\n",
    "    n=1\n",
    "    for i in range(n):\n",
    "      j = 1\n",
    "      print( \" i --\", i)\n",
    "      while j < n:\n",
    "        print( \" j \", j)\n",
    "        j *= 2\n",
    "        sum += 1"
   ]
  },
  {
   "cell_type": "code",
   "execution_count": 75,
   "metadata": {},
   "outputs": [],
   "source": [
    "def bunnyEars(bunnies):\n",
    "      #print(\"----\",bunnies)\n",
    "      if bunnies == 0:\n",
    "        return 0\n",
    "\n",
    "      return 2 + bunnyEars(bunnies-1)"
   ]
  },
  {
   "cell_type": "code",
   "execution_count": 98,
   "metadata": {},
   "outputs": [
    {
     "ename": "RecursionError",
     "evalue": "maximum recursion depth exceeded in comparison",
     "output_type": "error",
     "traceback": [
      "\u001b[0;31m---------------------------------------------------------------------------\u001b[0m",
      "\u001b[0;31mRecursionError\u001b[0m                            Traceback (most recent call last)",
      "\u001b[0;32m<ipython-input-98-9917199ebc0e>\u001b[0m in \u001b[0;36m<module>\u001b[0;34m\u001b[0m\n\u001b[0;32m----> 1\u001b[0;31m \u001b[0mbunnyEars\u001b[0m\u001b[0;34m(\u001b[0m\u001b[0;36m2960\u001b[0m\u001b[0;34m)\u001b[0m\u001b[0;34m\u001b[0m\u001b[0;34m\u001b[0m\u001b[0m\n\u001b[0m",
      "\u001b[0;32m<ipython-input-75-62cef29b7b1b>\u001b[0m in \u001b[0;36mbunnyEars\u001b[0;34m(bunnies)\u001b[0m\n\u001b[1;32m      4\u001b[0m         \u001b[0;32mreturn\u001b[0m \u001b[0;36m0\u001b[0m\u001b[0;34m\u001b[0m\u001b[0;34m\u001b[0m\u001b[0m\n\u001b[1;32m      5\u001b[0m \u001b[0;34m\u001b[0m\u001b[0m\n\u001b[0;32m----> 6\u001b[0;31m       \u001b[0;32mreturn\u001b[0m \u001b[0;36m2\u001b[0m \u001b[0;34m+\u001b[0m \u001b[0mbunnyEars\u001b[0m\u001b[0;34m(\u001b[0m\u001b[0mbunnies\u001b[0m\u001b[0;34m-\u001b[0m\u001b[0;36m1\u001b[0m\u001b[0;34m)\u001b[0m\u001b[0;34m\u001b[0m\u001b[0;34m\u001b[0m\u001b[0m\n\u001b[0m",
      "... last 1 frames repeated, from the frame below ...\n",
      "\u001b[0;32m<ipython-input-75-62cef29b7b1b>\u001b[0m in \u001b[0;36mbunnyEars\u001b[0;34m(bunnies)\u001b[0m\n\u001b[1;32m      4\u001b[0m         \u001b[0;32mreturn\u001b[0m \u001b[0;36m0\u001b[0m\u001b[0;34m\u001b[0m\u001b[0;34m\u001b[0m\u001b[0m\n\u001b[1;32m      5\u001b[0m \u001b[0;34m\u001b[0m\u001b[0m\n\u001b[0;32m----> 6\u001b[0;31m       \u001b[0;32mreturn\u001b[0m \u001b[0;36m2\u001b[0m \u001b[0;34m+\u001b[0m \u001b[0mbunnyEars\u001b[0m\u001b[0;34m(\u001b[0m\u001b[0mbunnies\u001b[0m\u001b[0;34m-\u001b[0m\u001b[0;36m1\u001b[0m\u001b[0;34m)\u001b[0m\u001b[0;34m\u001b[0m\u001b[0;34m\u001b[0m\u001b[0m\n\u001b[0m",
      "\u001b[0;31mRecursionError\u001b[0m: maximum recursion depth exceeded in comparison"
     ]
    }
   ],
   "source": [
    "bunnyEars(2960)"
   ]
  },
  {
   "cell_type": "code",
   "execution_count": 74,
   "metadata": {},
   "outputs": [
    {
     "name": "stdout",
     "output_type": "stream",
     "text": [
      "---- 0\n",
      "i  0  -- 0\n",
      "---- 1\n",
      "---- 0\n",
      "i  1  -- 2\n",
      "---- 2\n",
      "---- 1\n",
      "---- 0\n",
      "i  2  -- 4\n",
      "---- 3\n",
      "---- 2\n",
      "---- 1\n",
      "---- 0\n",
      "i  3  -- 6\n",
      "---- 4\n",
      "---- 3\n",
      "---- 2\n",
      "---- 1\n",
      "---- 0\n",
      "i  4  -- 8\n",
      "---- 5\n",
      "---- 4\n",
      "---- 3\n",
      "---- 2\n",
      "---- 1\n",
      "---- 0\n",
      "i  5  -- 10\n",
      "---- 6\n",
      "---- 5\n",
      "---- 4\n",
      "---- 3\n",
      "---- 2\n",
      "---- 1\n",
      "---- 0\n",
      "i  6  -- 12\n",
      "---- 7\n",
      "---- 6\n",
      "---- 5\n",
      "---- 4\n",
      "---- 3\n",
      "---- 2\n",
      "---- 1\n",
      "---- 0\n",
      "i  7  -- 14\n",
      "---- 8\n",
      "---- 7\n",
      "---- 6\n",
      "---- 5\n",
      "---- 4\n",
      "---- 3\n",
      "---- 2\n",
      "---- 1\n",
      "---- 0\n",
      "i  8  -- 16\n",
      "---- 9\n",
      "---- 8\n",
      "---- 7\n",
      "---- 6\n",
      "---- 5\n",
      "---- 4\n",
      "---- 3\n",
      "---- 2\n",
      "---- 1\n",
      "---- 0\n",
      "i  9  -- 18\n"
     ]
    }
   ],
   "source": [
    "for i in range(10):\n",
    " print(\"i \" , i ,\" --\",bunnyEars(i))"
   ]
  },
  {
   "cell_type": "code",
   "execution_count": null,
   "metadata": {},
   "outputs": [],
   "source": [
    "'''\n",
    "Your function should take in a single parameter (a string `word`)\n",
    "\n",
    "Your function should return a count of how many occurences of ***\"th\"*** occur within `word`. \n",
    "Case matters.\n",
    "Your function must utilize recursion.\n",
    "It cannot contain any loops.\n",
    "'''\n",
    "\"\" 0\n",
    "\"abcthxyz\" 1"
   ]
  },
  {
   "cell_type": "code",
   "execution_count": 126,
   "metadata": {},
   "outputs": [],
   "source": [
    "cache={c:0}\n",
    "def count_th(word):\n",
    "    #print(word)\n",
    "    if (word ==''):\n",
    "     return 0\n",
    "    elif (word[-2:] == 'th'):\n",
    "        #print(\" found th\")\n",
    "        cache[c] += 1\n",
    "        count_th(word[:-1])\n",
    "    else: \n",
    "        #print(\"not found\")\n",
    "        count_th(word[:-1])\n",
    "    return cache[c]\n"
   ]
  },
  {
   "cell_type": "code",
   "execution_count": 148,
   "metadata": {},
   "outputs": [],
   "source": [
    "cache = {'c':0}\n",
    "\n",
    "def count_th(word):\n",
    "    #print(word)\n",
    "    if (word ==''):\n",
    "         return 0\n",
    "    elif (word[-2:] == 'th'):\n",
    "        #print(\" found th\")\n",
    "        cache['c'] += 1\n",
    "        count_th(word[:-1])\n",
    "    else: \n",
    "        #print(\"not found\")\n",
    "        count_th(word[:-1])\n",
    "    return cache['c']\n"
   ]
  },
  {
   "cell_type": "code",
   "execution_count": 152,
   "metadata": {},
   "outputs": [
    {
     "data": {
      "text/plain": [
       "1"
      ]
     },
     "execution_count": 152,
     "metadata": {},
     "output_type": "execute_result"
    }
   ],
   "source": [
    "cache = {'c':0}\n",
    "word=\"THtHThth\"\n",
    "count_th(word)"
   ]
  },
  {
   "cell_type": "code",
   "execution_count": null,
   "metadata": {},
   "outputs": [],
   "source": [
    "\n",
    "cache = {'c':0}\n",
    "word=\"abcthxyz\"\n",
    "count_th(word)"
   ]
  },
  {
   "cell_type": "code",
   "execution_count": null,
   "metadata": {},
   "outputs": [],
   "source": [
    "cache = {'c':0}\n",
    "word=\"abcthxyz\"\n",
    "count_th(word)"
   ]
  },
  {
   "cell_type": "code",
   "execution_count": 113,
   "metadata": {},
   "outputs": [
    {
     "data": {
      "text/plain": [
       "'ththththfldkgjfsdlkgjthkfgjsak'"
      ]
     },
     "execution_count": 113,
     "metadata": {},
     "output_type": "execute_result"
    }
   ],
   "source": [
    "word[:-1]"
   ]
  },
  {
   "cell_type": "code",
   "execution_count": 175,
   "metadata": {},
   "outputs": [],
   "source": [
    "class SortingRobot:\n",
    "    def __init__(self, l):\n",
    "        \"\"\"\n",
    "        SortingRobot takes a list and sorts it.\n",
    "        \"\"\"\n",
    "        self._list = l          # The list the robot is tasked with sorting\n",
    "        self._item = None       # The item the robot is holding\n",
    "        self._position = 0      # The list position the robot is at\n",
    "        self._light = \"OFF\"     # The state of the robot's light\n",
    "        self._time = 0          # A time counter (stretch)\n",
    "\n",
    "    def can_move_right(self):\n",
    "        \"\"\"\n",
    "        Returns True if the robot can move right or False if it's\n",
    "        at the end of the list.\n",
    "        \"\"\"\n",
    "        return self._position < len(self._list) - 1\n",
    "\n",
    "    def can_move_left(self):\n",
    "        \"\"\"\n",
    "        Returns True if the robot can move left or False if it's\n",
    "        at the start of the list.\n",
    "        \"\"\"\n",
    "        return self._position > 0\n",
    "\n",
    "    def move_right(self):\n",
    "        \"\"\"\n",
    "        If the robot can move to the right, it moves to the right and\n",
    "        returns True. Otherwise, it stays in place and returns False.\n",
    "        This will increment the time counter by 1.\n",
    "        \"\"\"\n",
    "        self._time += 1\n",
    "        if self._position < len(self._list) - 1:\n",
    "            self._position += 1\n",
    "            return True\n",
    "        else:\n",
    "            return False\n",
    "\n",
    "    def move_left(self):\n",
    "        \"\"\"\n",
    "        If the robot can move to the left, it moves to the left and\n",
    "        returns True. Otherwise, it stays in place and returns False.\n",
    "        This will increment the time counter by 1.\n",
    "        \"\"\"\n",
    "        self._time += 1\n",
    "        if self._position > 0:\n",
    "            self._position -= 1\n",
    "            return True\n",
    "        else:\n",
    "            return False\n",
    "\n",
    "    def swap_item(self):\n",
    "        \"\"\"\n",
    "        The robot swaps its currently held item with the list item in front\n",
    "        of it.\n",
    "        This will increment the time counter by 1.\n",
    "        \"\"\"\n",
    "        self._time += 1\n",
    "        # Swap the held item with the list item at the robot's position\n",
    "        self._item, self._list[self._position] = self._list[self._position], self._item\n",
    "\n",
    "    def compare_item(self):\n",
    "        \"\"\"\n",
    "        Compare the held item with the item in front of the robot:\n",
    "        If the held item's value is greater, return 1.\n",
    "        If the held item's value is less, return -1.\n",
    "        If the held item's value is equal, return 0.\n",
    "        If either item is None, return None.\n",
    "        \"\"\"\n",
    "        if self._item is None or self._list[self._position] is None:\n",
    "            return None\n",
    "        elif self._item > self._list[self._position]:\n",
    "            return 1\n",
    "        elif self._item < self._list[self._position]:\n",
    "            return -1\n",
    "        else:\n",
    "            return 0\n",
    "\n",
    "    def set_light_on(self):\n",
    "        \"\"\"\n",
    "        Turn on the robot's light\n",
    "        \"\"\"\n",
    "        self._light = \"ON\"\n",
    "    def set_light_off(self):\n",
    "        \"\"\"\n",
    "        Turn off the robot's light\n",
    "        \"\"\"\n",
    "        self._light = \"OFF\"\n",
    "    def light_is_on(self):\n",
    "        \"\"\"\n",
    "        Returns True if the robot's light is on and False otherwise.\n",
    "        \"\"\"\n",
    "        return self._light == \"ON\"\n",
    "\n",
    "    def sort(self):\n",
    "        \"\"\"\n",
    "        Sort the robot's list.\n",
    "        \n",
    "        \"\"\"\n",
    "        # bubble sort\n",
    "        # pick the first item in the list\n",
    "        # switch the head light on\n",
    "        # walk right compare the next item in the list\n",
    "        # if its < the item its holding swap\n",
    "        # keep the head light on.\n",
    "        # compare the next two items until the end of list.\n",
    "        # swaping the items thats less to the left.\n",
    "        # when it reaches the end of right, walk left comparing next two items now check it the item is greater.\n",
    "        # do this until it reach the left end\n",
    "        # when no swaping happens, switch off the head light \n",
    "        # and the list is sorted\n",
    "        \n",
    "        # Fill this out\n",
    "            \n",
    "        #swap_occured=True\n",
    "        self.set_light_on()\n",
    "        while(self.light_is_on()):\n",
    "                self.set_light_off()\n",
    "                print(\"--- begore--\",self._list)\n",
    "                self.swap_item()\n",
    "                print(\"after \",self._list)\n",
    "                #arr = self._list\n",
    "                while(self.can_move_right()):\n",
    "                    self.move_right()\n",
    "                    if(self.compare_item() == -1):\n",
    "                        self.swap_item()\n",
    "                        self.set_light_on()\n",
    "                        print(self._list)\n",
    "#                       print(arr)\n",
    "#                 self._list = arr\n",
    "#         print(\"---\",arr)\n",
    "#         return arr\n",
    "        \n",
    "        \n",
    "    \n"
   ]
  },
  {
   "cell_type": "code",
   "execution_count": 176,
   "metadata": {},
   "outputs": [
    {
     "name": "stdout",
     "output_type": "stream",
     "text": [
      "--- begore-- [3, 1, 4, 2]\n",
      "after  [None, 1, 4, 2]\n",
      "[None, 1, 3, 2]\n",
      "--- begore-- [None, 1, 3, 2]\n",
      "after  [None, 1, 3, 4]\n",
      "[None, 1, 3, 4]\n"
     ]
    }
   ],
   "source": [
    "l = [15, 41, 58, 49, 26, 4, 28, 8, 61, 60, 65, 21, 78, 14, 35, 90, 54, 5, 0, 87, 82, 96, 43, 92, 62, 97, 69, 94, 99, 93, 76, 47, 2, 88, 51, 40, 95, 6, 23, 81, 30, 19, 25, 91, 18, 68, 71, 9, 66, 1, 45, 33, 3, 72, 16, 85, 27, 59, 64, 39, 32, 24, 38, 84, 44, 80, 11, 73, 42, 20, 10, 29, 22, 98, 17, 48, 52, 67, 53, 74, 77, 37, 63, 31, 7, 75, 36, 89, 70, 34, 79, 83, 13, 57, 86, 12, 56, 50, 55, 46]\n",
    "l= [3,1,4,2]\n",
    "robot = SortingRobot(l)\n",
    "\n",
    "robot.sort()\n",
    "print(robot._list)"
   ]
  },
  {
   "cell_type": "code",
   "execution_count": null,
   "metadata": {},
   "outputs": [],
   "source": []
  }
 ],
 "metadata": {
  "kernelspec": {
   "display_name": "Python 3",
   "language": "python",
   "name": "python3"
  },
  "language_info": {
   "codemirror_mode": {
    "name": "ipython",
    "version": 3
   },
   "file_extension": ".py",
   "mimetype": "text/x-python",
   "name": "python",
   "nbconvert_exporter": "python",
   "pygments_lexer": "ipython3",
   "version": "3.7.4"
  }
 },
 "nbformat": 4,
 "nbformat_minor": 4
}
